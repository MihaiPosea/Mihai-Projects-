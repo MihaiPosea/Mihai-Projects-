{
 "cells": [
  {
   "cell_type": "code",
   "execution_count": 31,
   "metadata": {},
   "outputs": [
    {
     "name": "stderr",
     "output_type": "stream",
     "text": [
      "[*********************100%%**********************]  3 of 3 completed"
     ]
    },
    {
     "name": "stdout",
     "output_type": "stream",
     "text": [
      "Optimal Weights:\n",
      "SOXL: 0.5000\n",
      "AAPL: 0.5000\n",
      "ZM: 0.0000\n",
      "Expected Annual Return: 0.2450\n",
      "Expected Volatility: 0.0414\n",
      "Sharpe Ratio: 5.4401\n"
     ]
    },
    {
     "name": "stderr",
     "output_type": "stream",
     "text": [
      "\n"
     ]
    }
   ],
   "source": [
    "import pandas as pd\n",
    "import numpy as np\n",
    "import yfinance as yf\n",
    "import math\n",
    "from scipy.optimize import minimize\n",
    "\n",
    "while True:\n",
    "    try:\n",
    "        num_stocks = int(input(\"Please enter the number of stocks you want to input: \"))\n",
    "        if num_stocks <= 0:\n",
    "            print(\"The number of stocks must be a positive integer. Please try again.\")\n",
    "        else:\n",
    "            break\n",
    "    except ValueError:\n",
    "        print(\"Invalid input. Please enter a valid integer.\")\n",
    "\n",
    "stock_symbols = []\n",
    "\n",
    "for i in range(num_stocks):\n",
    "    while True:\n",
    "        stock_symbol = input(f\"Enter stock symbol {i + 1} (e.g., AAPL): \")\n",
    "        if stock_symbol.isalpha():  \n",
    "            stock_symbols.append(stock_symbol.upper())\n",
    "            break\n",
    "        else:\n",
    "            print(\"Invalid stock symbol. Please enter only letters.\")\n",
    "\n",
    "\n",
    "# Fetch data using yfinance\n",
    "\n",
    "Yf_ticker_input = \" \".join(stock_symbols).lower()\n",
    "Stock = yf.Tickers(Yf_ticker_input)\n",
    "df = Stock.history(period=\"max\")\n",
    "\n",
    "## As per usual we are going to want to calculate the log returns of each column.\n",
    "Closing_prices = df[\"Close\"]\n",
    "log_return = np.log(Closing_prices/Closing_prices.shift(1)).dropna()\n",
    "\n",
    "## We then want to calculate the covariance matrix in between all stocks to gain a better understanding of the relationship between\n",
    "## their movements.\n",
    "\n",
    "covariance_matrix = log_return.cov()\n",
    "\n",
    "## We then want to calculate the standard deviation of the porfolio itself through matrix multuiplication of the weights of each stock\n",
    "def standard_deviation(weights, covariance):\n",
    "    variance = weights.T @ covariance @ weights\n",
    "    return np.sqrt(variance)\n",
    "\n",
    "## We know want to predict the future returns of the stocks in the portfolio, we will use the assumption that they follow past historical data.\n",
    "def predicted_returns(df, weights):\n",
    "    return np.sum(log_return.mean()*weights)*252\n",
    "\n",
    "## Here we calculate the sharpe ratio from before, but this time based off multiple stocks\n",
    "\n",
    "def sharpe_ratio(weights, log_returns, cov_matrix):\n",
    "    return (predicted_returns(df, weights) - 0.02) / standard_deviation(weights,cov_matrix)\n",
    "\n",
    "## Remember From CO 250 that we can minimize a problem by maximizing its negative. So we create a function that takes the negative of the sharpe ratio.\n",
    "\n",
    "def negative_sharpe_ratio(weights, log_returns, cov_matrix, risk_free_rate):\n",
    "    return -sharpe_ratio(weights, log_returns, cov_matrix)\n",
    "\n",
    "## We set the bounds of the optimization problem\n",
    "constraints = {\"type\" : \"eq\" , \"fun\": lambda weights: np.sum(weights) - 1}\n",
    "initial_weights = np.array([1/len(stock_symbols)] * len(stock_symbols))\n",
    "\n",
    "# Extract the optimal weights\n",
    "optimal_weights = optimized_results.x\n",
    "\n",
    "# Display the optimal weights\n",
    "print(\"Optimal Weights:\")\n",
    "for ticker, weight in zip(stock_symbols, optimal_weights):\n",
    "    print(f\"{ticker}: {weight:.4f}\")\n",
    "\n",
    "# Calculate and display the optimal portfolio's metrics\n",
    "optimal_portfolio_return = predicted_returns(df, optimal_weights)\n",
    "optimal_portfolio_volatility = standard_deviation(optimal_weights, covariance_matrix)\n",
    "optimal_sharpe_ratio = sharpe_ratio(optimal_weights, log_return, covariance_matrix)\n",
    "\n",
    "print(f\"Expected Annual Return: {optimal_portfolio_return:.4f}\")\n",
    "print(f\"Expected Volatility: {optimal_portfolio_volatility:.4f}\")\n",
    "print(f\"Sharpe Ratio: {optimal_sharpe_ratio:.4f}\")\n",
    "\n",
    "\n"
   ]
  },
  {
   "cell_type": "code",
   "execution_count": null,
   "metadata": {},
   "outputs": [],
   "source": []
  }
 ],
 "metadata": {
  "kernelspec": {
   "display_name": "Python 3",
   "language": "python",
   "name": "python3"
  },
  "language_info": {
   "codemirror_mode": {
    "name": "ipython",
    "version": 3
   },
   "file_extension": ".py",
   "mimetype": "text/x-python",
   "name": "python",
   "nbconvert_exporter": "python",
   "pygments_lexer": "ipython3",
   "version": "3.12.5"
  }
 },
 "nbformat": 4,
 "nbformat_minor": 2
}
